{
 "cells": [
  {
   "cell_type": "markdown",
   "id": "9a817e7d",
   "metadata": {
    "id": "pIrxUHm9sHho",
    "papermill": {
     "duration": 0.003156,
     "end_time": "2024-07-17T17:34:44.402134",
     "exception": false,
     "start_time": "2024-07-17T17:34:44.398978",
     "status": "completed"
    },
    "tags": []
   },
   "source": [
    "**Import Section**"
   ]
  },
  {
   "cell_type": "code",
   "execution_count": 1,
   "id": "d870f4a6",
   "metadata": {
    "execution": {
     "iopub.execute_input": "2024-07-17T17:34:44.409366Z",
     "iopub.status.busy": "2024-07-17T17:34:44.409015Z",
     "iopub.status.idle": "2024-07-17T17:35:15.596835Z",
     "shell.execute_reply": "2024-07-17T17:35:15.595660Z"
    },
    "id": "Cj9fXBNwZVtd",
    "papermill": {
     "duration": 31.194201,
     "end_time": "2024-07-17T17:35:15.599172",
     "exception": false,
     "start_time": "2024-07-17T17:34:44.404971",
     "status": "completed"
    },
    "tags": []
   },
   "outputs": [
    {
     "name": "stderr",
     "output_type": "stream",
     "text": [
      "2024-07-17 17:34:49.059437: E external/local_xla/xla/stream_executor/cuda/cuda_dnn.cc:9261] Unable to register cuDNN factory: Attempting to register factory for plugin cuDNN when one has already been registered\n",
      "2024-07-17 17:34:49.059600: E external/local_xla/xla/stream_executor/cuda/cuda_fft.cc:607] Unable to register cuFFT factory: Attempting to register factory for plugin cuFFT when one has already been registered\n",
      "2024-07-17 17:34:49.215801: E external/local_xla/xla/stream_executor/cuda/cuda_blas.cc:1515] Unable to register cuBLAS factory: Attempting to register factory for plugin cuBLAS when one has already been registered\n"
     ]
    }
   ],
   "source": [
    "import nltk\n",
    "import numpy as np\n",
    "import pandas as pd\n",
    "import tensorflow as tf\n",
    "import string\n",
    "import matplotlib.pyplot as plt\n",
    "import re\n",
    "import scipy\n",
    "import math\n",
    "import requests\n",
    "from nltk.tokenize import word_tokenize\n",
    "from nltk.stem import WordNetLemmatizer,PorterStemmer\n",
    "from nltk.corpus import stopwords\n",
    "from gensim.models import Word2Vec\n",
    "from sklearn.manifold import MDS\n",
    "from keras.layers import Input, Dense, Dropout, Flatten, Conv2D, MaxPooling2D\n",
    "from keras.models import Model\n",
    "from bs4 import BeautifulSoup\n"
   ]
  },
  {
   "cell_type": "code",
   "execution_count": 2,
   "id": "67bdf1ba",
   "metadata": {
    "execution": {
     "iopub.execute_input": "2024-07-17T17:35:15.606944Z",
     "iopub.status.busy": "2024-07-17T17:35:15.606337Z",
     "iopub.status.idle": "2024-07-17T17:35:27.457720Z",
     "shell.execute_reply": "2024-07-17T17:35:27.456482Z"
    },
    "id": "fTG8d3-ruIMb",
    "outputId": "a2918dd3-1266-4171-f0b2-ea3fcc448e42",
    "papermill": {
     "duration": 11.857645,
     "end_time": "2024-07-17T17:35:27.459974",
     "exception": false,
     "start_time": "2024-07-17T17:35:15.602329",
     "status": "completed"
    },
    "tags": []
   },
   "outputs": [
    {
     "name": "stdout",
     "output_type": "stream",
     "text": [
      "[nltk_data] Downloading package stopwords to /usr/share/nltk_data...\n",
      "[nltk_data]   Package stopwords is already up-to-date!\n",
      "[nltk_data] Downloading package punkt to /usr/share/nltk_data...\n",
      "[nltk_data]   Package punkt is already up-to-date!\n",
      "[nltk_data] Downloading package wordnet to /usr/share/nltk_data...\n",
      "[nltk_data]   Package wordnet is already up-to-date!\n",
      "Requirement already satisfied: beautifulsoup4 in /opt/conda/lib/python3.10/site-packages (4.12.2)\r\n",
      "Requirement already satisfied: soupsieve>1.2 in /opt/conda/lib/python3.10/site-packages (from beautifulsoup4) (2.5)\r\n"
     ]
    }
   ],
   "source": [
    "nltk.download('stopwords')\n",
    "nltk.download('punkt')\n",
    "nltk.download('wordnet')\n",
    "!pip install beautifulsoup4"
   ]
  },
  {
   "cell_type": "markdown",
   "id": "801ade6f",
   "metadata": {
    "id": "QevS3MtSsSj0",
    "papermill": {
     "duration": 0.002781,
     "end_time": "2024-07-17T17:35:27.465919",
     "exception": false,
     "start_time": "2024-07-17T17:35:27.463138",
     "status": "completed"
    },
    "tags": []
   },
   "source": [
    "**Fetch Function To Get HTML**"
   ]
  },
  {
   "cell_type": "code",
   "execution_count": 3,
   "id": "a4e41906",
   "metadata": {
    "execution": {
     "iopub.execute_input": "2024-07-17T17:35:27.473286Z",
     "iopub.status.busy": "2024-07-17T17:35:27.472923Z",
     "iopub.status.idle": "2024-07-17T17:35:27.478428Z",
     "shell.execute_reply": "2024-07-17T17:35:27.477135Z"
    },
    "id": "9BWym90Ma0x9",
    "papermill": {
     "duration": 0.011502,
     "end_time": "2024-07-17T17:35:27.480331",
     "exception": false,
     "start_time": "2024-07-17T17:35:27.468829",
     "status": "completed"
    },
    "tags": []
   },
   "outputs": [],
   "source": [
    "def fetch(url):\n",
    "  response = requests.get(url)\n",
    "  if response.status_code == 200:\n",
    "    return response.text\n",
    "  else:\n",
    "    return None\n"
   ]
  },
  {
   "cell_type": "markdown",
   "id": "72d86fca",
   "metadata": {
    "id": "SyyTzqWfshnw",
    "papermill": {
     "duration": 0.002848,
     "end_time": "2024-07-17T17:35:27.486216",
     "exception": false,
     "start_time": "2024-07-17T17:35:27.483368",
     "status": "completed"
    },
    "tags": []
   },
   "source": [
    "**Preprocessing Text Operations & Return Text's Unique Words**"
   ]
  },
  {
   "cell_type": "code",
   "execution_count": 4,
   "id": "191f1c13",
   "metadata": {
    "execution": {
     "iopub.execute_input": "2024-07-17T17:35:27.494189Z",
     "iopub.status.busy": "2024-07-17T17:35:27.493196Z",
     "iopub.status.idle": "2024-07-17T17:35:27.503719Z",
     "shell.execute_reply": "2024-07-17T17:35:27.502694Z"
    },
    "id": "ce4lT_ZacOxF",
    "papermill": {
     "duration": 0.016873,
     "end_time": "2024-07-17T17:35:27.506044",
     "exception": false,
     "start_time": "2024-07-17T17:35:27.489171",
     "status": "completed"
    },
    "tags": []
   },
   "outputs": [],
   "source": [
    "def prepocessing(text, stopWords = set(stopwords.words('english'))):\n",
    "    text=text.lower()\n",
    "    text=text.translate(str.maketrans('', '', string.punctuation))\n",
    "    text = re.sub(r'\\w*\\d\\w*' , ' ' , text)\n",
    "    text = re.sub(r'[0-9]' , ' ' , text)\n",
    "    text = re.sub(r'[^a-zA-Z0-9\\s]' , ' ' , text)\n",
    "    text = re.sub(r'\\s+' , ' ', text)\n",
    "    text = word_tokenize(text)\n",
    "    text = [i for i in text if i != '']\n",
    "    text = [i for i in text if i not in stopWords]\n",
    "    stemmer = PorterStemmer()\n",
    "    words = [stemmer.stem(word) for word in text]\n",
    "    unique_words= set(words)\n",
    "    return unique_words\n"
   ]
  },
  {
   "cell_type": "markdown",
   "id": "48978b2c",
   "metadata": {
    "id": "S9O9gCL8tlc9",
    "papermill": {
     "duration": 0.002997,
     "end_time": "2024-07-17T17:35:27.512445",
     "exception": false,
     "start_time": "2024-07-17T17:35:27.509448",
     "status": "completed"
    },
    "tags": []
   },
   "source": [
    "**Fetch An URL Example**"
   ]
  },
  {
   "cell_type": "code",
   "execution_count": 5,
   "id": "189e0d4b",
   "metadata": {
    "execution": {
     "iopub.execute_input": "2024-07-17T17:35:27.520361Z",
     "iopub.status.busy": "2024-07-17T17:35:27.519957Z",
     "iopub.status.idle": "2024-07-17T17:35:27.890644Z",
     "shell.execute_reply": "2024-07-17T17:35:27.889695Z"
    },
    "id": "TnblOwAQkjXo",
    "outputId": "952765dd-c785-4298-d5ad-1cff158d47a0",
    "papermill": {
     "duration": 0.377427,
     "end_time": "2024-07-17T17:35:27.892985",
     "exception": false,
     "start_time": "2024-07-17T17:35:27.515558",
     "status": "completed"
    },
    "tags": []
   },
   "outputs": [
    {
     "data": {
      "text/plain": [
       "'<!DOCTYPE html>\\n<html lang=\"en\" class=\"h-100\" data-bs-theme=\"light\">\\n<head>\\n    <!-- Required meta tags -->\\n    <meta charset=\"utf-8\">\\n    <meta name=\"viewport\" content=\"width=device-width, initial-scale=1, shrink-to-fit=no\">\\n    <meta name=\"theme-color\" content=\"#ffffff\">\\n    <title>Fake Image Detector | Fake Image Detector Online | FotoForensics | Error Level Analysis</title>\\n    <meta name=\"description\" content=\"Discover Fake Image Detector, a powerful tool for detecting manipulated images using advanced techniques like Metadata Analysis and ELA Analysis. Learn how this platform helps combat misinformation and maintain visual media integrity.\" />\\n    <link rel=\"shortcut icon\" href=\"/static/images/favicon.ico\" type=\"image/x-icon\">\\n    <!-- Bootstrap CSS -->\\n    <link rel=\"stylesheet\" href=\"/static/css/bootstrap.css\">\\n    <link rel=\"preconnect\" href=\"https://fonts.googleapis.com\">\\n    <link rel=\"preconnect\" href=\"https://fonts.gstatic.com\" crossorigin>\\n    <link href=\"https://fonts.googleapis.com/css2?family=Rubik&display=swap\" rel=\"stylesheet\">\\n    <!-- Google tag (gtag.js) -->\\n    <script async src=\"https://www.googletagmanager.com/gtag/js?id=G-QWG2Z2ME9K\"></script>\\n    <script>\\n      window.dataLayer = window.dataLayer || [];\\n      function gtag(){dataLayer.push(arguments);}\\n      gtag(\\'js\\', new Date());\\n\\n      gtag(\\'config\\', \\'G-QWG2Z2ME9K\\');\\n    </script>\\n    <script async src=\"https://pagead2.googlesyndication.com/pagead/js/adsbygoogle.js?client=ca-pub-3654485588670526\"\\n     crossorigin=\"anonymous\"></script>\\n    <script async src=\"https://fundingchoicesmessages.google.com/i/pub-3654485588670526?ers=1\" nonce=\"FGRMfZSC3IAwRKYLHkVb9g\"></script><script nonce=\"FGRMfZSC3IAwRKYLHkVb9g\">(function() {function signalGooglefcPresent() {if (!window.frames[\\'googlefcPresent\\']) {if (document.body) {const iframe = document.createElement(\\'iframe\\'); iframe.style = \\'width: 0; height: 0; border: none; z-index: -1000; left: -1000px; top: -1000px;\\'; iframe.style.display = \\'none\\'; iframe.name = \\'googlefcPresent\\'; document.body.appendChild(iframe);} else {setTimeout(signalGooglefcPresent, 0);}}}signalGooglefcPresent();})();</script>\\n    <script>(function(){/*\\n\\n Copyright The Closure Library Authors.\\n SPDX-License-Identifier: Apache-2.0\\n*/\\n\\'use strict\\';var aa=function(a){var b=0;return function(){return b<a.length?{done:!1,value:a[b++]}:{done:!0}}},ba=\"function\"==typeof Object.create?Object.create:function(a){var b=function(){};b.prototype=a;return new b},k;if(\"function\"==typeof Object.setPrototypeOf)k=Object.setPrototypeOf;else{var m;a:{var ca={a:!0},n={};try{n.__proto__=ca;m=n.a;break a}catch(a){}m=!1}k=m?function(a,b){a.__proto__=b;if(a.__proto__!==b)throw new TypeError(a+\" is not extensible\");return a}:null}\\nvar p=k,q=function(a,b){a.prototype=ba(b.prototype);a.prototype.constructor=a;if(p)p(a,b);else for(var c in b)if(\"prototype\"!=c)if(Object.defineProperties){var d=Object.getOwnPropertyDescriptor(b,c);d&&Object.defineProperty(a,c,d)}else a[c]=b[c];a.v=b.prototype},r=this||self,da=function(){},t=function(a){return a};var u;var w=function(a,b){this.g=b===v?a:\"\"};w.prototype.toString=function(){return this.g+\"\"};var v={},x=function(a){if(void 0===u){var b=null;var c=r.trustedTypes;if(c&&c.createPolicy){try{b=c.createPolicy(\"goog#html\",{createHTML:t,createScript:t,createScriptURL:t})}catch(d){r.console&&r.console.error(d.message)}u=b}else u=b}a=(b=u)?b.createScriptURL(a):a;return new w(a,v)};var A=function(){return Math.floor(2147483648*Math.random()).toString(36)+Math.abs(Math.floor(2147483648*Math.random())^Date.now()).toString(36)};var B={},C=null;var D=\"function\"===typeof Uint8Array;function E(a,b,c){return\"object\"===typeof a?D&&!Array.isArray(a)&&a instanceof Uint8Array?c(a):F(a,b,c):b(a)}function F(a,b,c){if(Array.isArray(a)){for(var d=Array(a.length),e=0;e<a.length;e++){var f=a[e];null!=f&&(d[e]=E(f,b,c))}Array.isArray(a)&&a.s&&G(d);return d}d={};for(e in a)Object.prototype.hasOwnProperty.call(a,e)&&(f=a[e],null!=f&&(d[e]=E(f,b,c)));return d}\\nfunction ea(a){return F(a,function(b){return\"number\"===typeof b?isFinite(b)?b:String(b):b},function(b){var c;void 0===c&&(c=0);if(!C){C={};for(var d=\"ABCDEFGHIJKLMNOPQRSTUVWXYZabcdefghijklmnopqrstuvwxyz0123456789\".split(\"\"),e=[\"+/=\",\"+/\",\"-_=\",\"-_.\",\"-_\"],f=0;5>f;f++){var h=d.concat(e[f].split(\"\"));B[f]=h;for(var g=0;g<h.length;g++){var l=h[g];void 0===C[l]&&(C[l]=g)}}}c=B[c];d=Array(Math.floor(b.length/3));e=c[64]||\"\";for(f=h=0;h<b.length-2;h+=3){var y=b[h],z=b[h+1];l=b[h+2];g=c[y>>2];y=c[(y&3)<<\\n4|z>>4];z=c[(z&15)<<2|l>>6];l=c[l&63];d[f++]=\"\"+g+y+z+l}g=0;l=e;switch(b.length-h){case 2:g=b[h+1],l=c[(g&15)<<2]||e;case 1:b=b[h],d[f]=\"\"+c[b>>2]+c[(b&3)<<4|g>>4]+l+e}return d.join(\"\")})}var fa={s:{value:!0,configurable:!0}},G=function(a){Array.isArray(a)&&!Object.isFrozen(a)&&Object.defineProperties(a,fa);return a};var H;var J=function(a,b,c){var d=H;H=null;a||(a=d);d=this.constructor.u;a||(a=d?[d]:[]);this.j=d?0:-1;this.h=null;this.g=a;a:{d=this.g.length;a=d-1;if(d&&(d=this.g[a],!(null===d||\"object\"!=typeof d||Array.isArray(d)||D&&d instanceof Uint8Array))){this.l=a-this.j;this.i=d;break a}void 0!==b&&-1<b?(this.l=Math.max(b,a+1-this.j),this.i=null):this.l=Number.MAX_VALUE}if(c)for(b=0;b<c.length;b++)a=c[b],a<this.l?(a+=this.j,(d=this.g[a])?G(d):this.g[a]=I):(d=this.l+this.j,this.g[d]||(this.i=this.g[d]={}),(d=this.i[a])?\\nG(d):this.i[a]=I)},I=Object.freeze(G([])),K=function(a,b){if(-1===b)return null;if(b<a.l){b+=a.j;var c=a.g[b];return c!==I?c:a.g[b]=G([])}if(a.i)return c=a.i[b],c!==I?c:a.i[b]=G([])},M=function(a,b){var c=L;if(-1===b)return null;a.h||(a.h={});if(!a.h[b]){var d=K(a,b);d&&(a.h[b]=new c(d))}return a.h[b]};J.prototype.toJSON=function(){var a=N(this,!1);return ea(a)};\\nvar N=function(a,b){if(a.h)for(var c in a.h)if(Object.prototype.hasOwnProperty.call(a.h,c)){var d=a.h[c];if(Array.isArray(d))for(var e=0;e<d.length;e++)d[e]&&N(d[e],b);else d&&N(d,b)}return a.g},O=function(a,b){H=b=b?JSON.parse(b):null;a=new a(b);H=null;return a};J.prototype.toString=function(){return N(this,!1).toString()};var P=function(a){J.call(this,a)};q(P,J);function ha(a){var b,c=(a.ownerDocument&&a.ownerDocument.defaultView||window).document,d=null===(b=c.querySelector)||void 0===b?void 0:b.call(c,\"script[nonce]\");(b=d?d.nonce||d.getAttribute(\"nonce\")||\"\":\"\")&&a.setAttribute(\"nonce\",b)};var Q=function(a,b){b=String(b);\"application/xhtml+xml\"===a.contentType&&(b=b.toLowerCase());return a.createElement(b)},R=function(a){this.g=a||r.document||document};R.prototype.appendChild=function(a,b){a.appendChild(b)};var S=function(a,b,c,d,e,f){try{var h=a.g,g=Q(a.g,\"SCRIPT\");g.async=!0;g.src=b instanceof w&&b.constructor===w?b.g:\"type_error:TrustedResourceUrl\";ha(g);h.head.appendChild(g);g.addEventListener(\"load\",function(){e();d&&h.head.removeChild(g)});g.addEventListener(\"error\",function(){0<c?S(a,b,c-1,d,e,f):(d&&h.head.removeChild(g),f())})}catch(l){f()}};var ia=r.atob(\"aHR0cHM6Ly93d3cuZ3N0YXRpYy5jb20vaW1hZ2VzL2ljb25zL21hdGVyaWFsL3N5c3RlbS8xeC93YXJuaW5nX2FtYmVyXzI0ZHAucG5n\"),ja=r.atob(\"WW91IGFyZSBzZWVpbmcgdGhpcyBtZXNzYWdlIGJlY2F1c2UgYWQgb3Igc2NyaXB0IGJsb2NraW5nIHNvZnR3YXJlIGlzIGludGVyZmVyaW5nIHdpdGggdGhpcyBwYWdlLg==\"),ka=r.atob(\"RGlzYWJsZSBhbnkgYWQgb3Igc2NyaXB0IGJsb2NraW5nIHNvZnR3YXJlLCB0aGVuIHJlbG9hZCB0aGlzIHBhZ2Uu\"),la=function(a,b,c){this.h=a;this.j=new R(this.h);this.g=null;this.i=[];this.l=!1;this.o=b;this.m=c},V=function(a){if(a.h.body&&!a.l){var b=\\nfunction(){T(a);r.setTimeout(function(){return U(a,3)},50)};S(a.j,a.o,2,!0,function(){r[a.m]||b()},b);a.l=!0}},T=function(a){for(var b=W(1,5),c=0;c<b;c++){var d=X(a);a.h.body.appendChild(d);a.i.push(d)}b=X(a);b.style.bottom=\"0\";b.style.left=\"0\";b.style.position=\"fixed\";b.style.width=W(100,110).toString()+\"%\";b.style.zIndex=W(2147483544,2147483644).toString();b.style[\"background-color\"]=ma(249,259,242,252,219,229);b.style[\"box-shadow\"]=\"0 0 12px #888\";b.style.color=ma(0,10,0,10,0,10);b.style.display=\\n\"flex\";b.style[\"justify-content\"]=\"center\";b.style[\"font-family\"]=\"Roboto, Arial\";c=X(a);c.style.width=W(80,85).toString()+\"%\";c.style.maxWidth=W(750,775).toString()+\"px\";c.style.margin=\"24px\";c.style.display=\"flex\";c.style[\"align-items\"]=\"flex-start\";c.style[\"justify-content\"]=\"center\";d=Q(a.j.g,\"IMG\");d.className=A();d.src=ia;d.style.height=\"24px\";d.style.width=\"24px\";d.style[\"padding-right\"]=\"16px\";var e=X(a),f=X(a);f.style[\"font-weight\"]=\"bold\";f.textContent=ja;var h=X(a);h.textContent=ka;Y(a,\\ne,f);Y(a,e,h);Y(a,c,d);Y(a,c,e);Y(a,b,c);a.g=b;a.h.body.appendChild(a.g);b=W(1,5);for(c=0;c<b;c++)d=X(a),a.h.body.appendChild(d),a.i.push(d)},Y=function(a,b,c){for(var d=W(1,5),e=0;e<d;e++){var f=X(a);b.appendChild(f)}b.appendChild(c);c=W(1,5);for(d=0;d<c;d++)e=X(a),b.appendChild(e)},W=function(a,b){return Math.floor(a+Math.random()*(b-a))},ma=function(a,b,c,d,e,f){return\"rgb(\"+W(Math.max(a,0),Math.min(b,255)).toString()+\",\"+W(Math.max(c,0),Math.min(d,255)).toString()+\",\"+W(Math.max(e,0),Math.min(f,\\n255)).toString()+\")\"},X=function(a){a=Q(a.j.g,\"DIV\");a.className=A();return a},U=function(a,b){0>=b||null!=a.g&&0!=a.g.offsetHeight&&0!=a.g.offsetWidth||(na(a),T(a),r.setTimeout(function(){return U(a,b-1)},50))},na=function(a){var b=a.i;var c=\"undefined\"!=typeof Symbol&&Symbol.iterator&&b[Symbol.iterator];b=c?c.call(b):{next:aa(b)};for(c=b.next();!c.done;c=b.next())(c=c.value)&&c.parentNode&&c.parentNode.removeChild(c);a.i=[];(b=a.g)&&b.parentNode&&b.parentNode.removeChild(b);a.g=null};var pa=function(a,b,c,d,e){var f=oa(c),h=function(l){l.appendChild(f);r.setTimeout(function(){f?(0!==f.offsetHeight&&0!==f.offsetWidth?b():a(),f.parentNode&&f.parentNode.removeChild(f)):a()},d)},g=function(l){document.body?h(document.body):0<l?r.setTimeout(function(){g(l-1)},e):b()};g(3)},oa=function(a){var b=document.createElement(\"div\");b.className=a;b.style.width=\"1px\";b.style.height=\"1px\";b.style.position=\"absolute\";b.style.left=\"-10000px\";b.style.top=\"-10000px\";b.style.zIndex=\"-10000\";return b};var L=function(a){J.call(this,a)};q(L,J);var qa=function(a){J.call(this,a)};q(qa,J);var ra=function(a,b){this.l=a;this.m=new R(a.document);this.g=b;this.i=K(this.g,1);b=M(this.g,2);this.o=x(K(b,4)||\"\");this.h=!1;b=M(this.g,13);b=x(K(b,4)||\"\");this.j=new la(a.document,b,K(this.g,12))};ra.prototype.start=function(){sa(this)};\\nvar sa=function(a){ta(a);S(a.m,a.o,3,!1,function(){a:{var b=a.i;var c=r.btoa(b);if(c=r[c]){try{var d=O(P,r.atob(c))}catch(e){b=!1;break a}b=b===K(d,1)}else b=!1}b?Z(a,K(a.g,14)):(Z(a,K(a.g,8)),V(a.j))},function(){pa(function(){Z(a,K(a.g,7));V(a.j)},function(){return Z(a,K(a.g,6))},K(a.g,9),K(a.g,10),K(a.g,11))})},Z=function(a,b){a.h||(a.h=!0,a=new a.l.XMLHttpRequest,a.open(\"GET\",b,!0),a.send())},ta=function(a){var b=r.btoa(a.i);a.l[b]&&Z(a,K(a.g,5))};(function(a,b){r[a]=function(c){for(var d=[],e=0;e<arguments.length;++e)d[e-0]=arguments[e];r[a]=da;b.apply(null,d)}})(\"__h82AlnkH6D91__\",function(a){\"function\"===typeof window.atob&&(new ra(window,O(qa,window.atob(a)))).start()});}).call(this);\\n\\nwindow.__h82AlnkH6D91__(\"WyJwdWItMzY1NDQ4NTU4ODY3MDUyNiIsW251bGwsbnVsbCxudWxsLCJodHRwczovL2Z1bmRpbmdjaG9pY2VzbWVzc2FnZXMuZ29vZ2xlLmNvbS9iL3B1Yi0zNjU0NDg1NTg4NjcwNTI2Il0sbnVsbCxudWxsLCJodHRwczovL2Z1bmRpbmdjaG9pY2VzbWVzc2FnZXMuZ29vZ2xlLmNvbS9lbC9BR1NLV3hWTDE5RnVQd0lIU0NZR1o2b29oQkZoUUZDRnVWbkg3ZjY3em1tak1xNjlkUWt3X1hHX01TVW1UWVBrYkYyMDhxdUQ3OWN1MjNMUXMwUlg4Qk41RzdHUDVBXHUwMDNkXHUwMDNkP3RlXHUwMDNkVE9LRU5fRVhQT1NFRCIsImh0dHBzOi8vZnVuZGluZ2Nob2ljZXNtZXNzYWdlcy5nb29nbGUuY29tL2VsL0FHU0tXeFVicEtkbFR2VXlrV1l5aldmOTR1NmJUa2NaS0hCd1JHZ2FKbWg2WjRudmJHcFFMNDRQNG1JMnVkTEt2eUFPb3JIQlo0TDYwMFdXZ0puVmw3aVFGSjNIVndcdTAwM2RcdTAwM2Q/YWJcdTAwM2QxXHUwMDI2c2JmXHUwMDNkMSIsImh0dHBzOi8vZnVuZGluZ2Nob2ljZXNtZXNzYWdlcy5nb29nbGUuY29tL2VsL0FHU0tXeFV2QzJGcnlid29YZG8zYVlJVkg0eGhyblcyWmtPWXlrVGs2OGtjdnJmbV8wMlRQblhKb2pMQnFQdGRLdk9oTE4tWTA0SHp1VENoUFBkZGJVN2NhTUMyb2dcdTAwM2RcdTAwM2Q/YWJcdTAwM2QyXHUwMDI2c2JmXHUwMDNkMSIsImh0dHBzOi8vZnVuZGluZ2Nob2ljZXNtZXNzYWdlcy5nb29nbGUuY29tL2VsL0FHU0tXeFVRNGZjR1Z4M3ZUWUFkLTAyQVMxSlBjNVMzcTg3Unk3M2Q2QnNFa0RLT3lOazQ5b3Z2bjEtVDFLWWk2bUEyTVd2cnB2OFduWXR2UGlUMkxKX3pfYWZ6aXdcdTAwM2RcdTAwM2Q/c2JmXHUwMDNkMiIsImRpdi1ncHQtYWQiLDIwLDEwMCwiY0hWaUxUTTJOVFEwT0RVMU9EZzJOekExTWpZXHUwMDNkIixbbnVsbCxudWxsLG51bGwsImh0dHBzOi8vd3d3LmdzdGF0aWMuY29tLzBlbW4vZi9wL3B1Yi0zNjU0NDg1NTg4NjcwNTI2LmpzP3VzcXBcdTAwM2RDQVUiXSwiaHR0cHM6Ly9mdW5kaW5nY2hvaWNlc21lc3NhZ2VzLmdvb2dsZS5jb20vZWwvQUdTS1d4VVVtVEdsZzltSFYxMmZFdTZteHVBcDB3TU9VWVdtSC1XQzJQcFhUR1c1a3VxM0RRNHNIVmFwcEUzbVN2Sm1KWEstV1o1S3lRYmM1RzlMaHEyVTN0MlBfUVx1MDAzZFx1MDAzZCJd\");</script>\\n</head>\\n<body class=\"d-flex flex-column h-100\">\\n    <header class=\"site-header\">\\n        <div class=\"fid-processing text-center\">\\n            <h6 class=\"text-uppercase text-light\">Processing</h6>\\n            <div class=\"fid-ellipsis\">\\n                <div></div><div></div><div></div><div></div>\\n            </div>\\n        </div>\\n\\n        <nav class=\"navbar navbar-expand-lg\">\\n          <div class=\"container\">\\n\\n            <a class=\"navbar-brand d-flex align-items-center\" href=\"/\">\\n                <img class=\"fid-site-logo me-3\" src=\"/static/images/logo.png\" alt=\"site-logo\">\\n                <span class=\"site-name\">Fake Image Detector</span>\\n            </a>\\n\\n            <button class=\"btn btn-primary d-flex align-items-center justify-content-center d-lg-none\" type=\"button\" data-bs-toggle=\"offcanvas\" data-bs-target=\"#offcanvasMenu\">\\n                <svg xmlns=\"http://www.w3.org/2000/svg\" width=\"16\" height=\"16\" fill=\"currentColor\" class=\"bi bi-list my-1\" viewBox=\"0 0 16 16\">\\n                  <path fill-rule=\"evenodd\" d=\"M2.5 12a.5.5 0 0 1 .5-.5h10a.5.5 0 0 1 0 1H3a.5.5 0 0 1-.5-.5zm0-4a.5.5 0 0 1 .5-.5h10a.5.5 0 0 1 0 1H3a.5.5 0 0 1-.5-.5zm0-4a.5.5 0 0 1 .5-.5h10a.5.5 0 0 1 0 1H3a.5.5 0 0 1-.5-.5z\"/>\\n                </svg>\\n            </button>\\n\\n            <div class=\"collapse navbar-collapse\">\\n              <ul class=\"navbar-nav ms-auto\">\\n                <li class=\"nav-item\">\\n                  <a class=\"nav-link\" href=\"/\">Home</a>\\n                </li>\\n                <li class=\"nav-item\">\\n                  <a class=\"nav-link\" href=\"/faq/\">FAQs</a>\\n                </li>\\n                <li class=\"nav-item\">\\n                  <a class=\"nav-link\" href=\"/blog/\">Blog</a>\\n                </li>\\n                <li class=\"nav-item\">\\n                  <a class=\"nav-link\" href=\"/about-us/\">About Us</a>\\n                </li>\\n                <li class=\"nav-item\">\\n                  <a class=\"nav-link\" href=\"/contact-us/\">Contact Us</a>\\n                </li>\\n              </ul>\\n            </div>\\n\\n          </div>\\n        </nav>\\n\\n        <div class=\"offcanvas offcanvas-start\" tabindex=\"-1\" id=\"offcanvasMenu\">\\n          <div class=\"offcanvas-header\">\\n            <h5 class=\"offcanvas-title\" id=\"offcanvasMenuLabel\">Fake Image Detector</h5>\\n            <button type=\"button\" class=\"btn-close\" data-bs-dismiss=\"offcanvas\" aria-label=\"Close\"></button>\\n          </div>\\n          <div class=\"offcanvas-body d-flex flex-column justify-content-between\">\\n\\n            <div class=\"mb-4\">\\n                <div class=\"mb-4\">\\n                  The Fake Image Detector is an effective solution for identifying altered images through cutting-edge approaches, such as Metadata Analysis and ELA Analysis.\\n                </div>\\n                <ul class=\"navbar-nav\">\\n                    <li class=\"nav-item\">\\n                      <a class=\"nav-link\" href=\"/\">Home</a>\\n                    </li>\\n                    <li class=\"nav-item\">\\n                      <a class=\"nav-link\" href=\"/faq/\">FAQs</a>\\n                    </li>\\n                    <li class=\"nav-item\">\\n                      <a class=\"nav-link\" href=\"/blog/\">Blog</a>\\n                    </li>\\n                    <li class=\"nav-item\">\\n                      <a class=\"nav-link\" href=\"/about-us/\">About Us</a>\\n                    </li>\\n                    <li class=\"nav-item\">\\n                      <a class=\"nav-link\" href=\"/contact-us/\">Contact Us</a>\\n                    </li>\\n                </ul>\\n            </div>\\n\\n            <div class=\"offcanvas-footer\">\\n                &copy; 2020 - 2024\\n            </div>\\n\\n          </div>\\n        </div>\\n    </header>\\n\\n    <main class=\"flex-shrink-0\">\\n\\n        \\n\\n\\t<svg xmlns=\"http://www.w3.org/2000/svg\" style=\"display: none;\">\\n\\t  <symbol id=\"exclamation-triangle-fill\" viewBox=\"0 0 16 16\">\\n\\t    <path d=\"M8.982 1.566a1.13 1.13 0 0 0-1.96 0L.165 13.233c-.457.778.091 1.767.98 1.767h13.713c.889 0 1.438-.99.98-1.767L8.982 1.566zM8 5c.535 0 .954.462.9.995l-.35 3.507a.552.552 0 0 1-1.1 0L7.1 5.995A.905.905 0 0 1 8 5zm.002 6a1 1 0 1 1 0 2 1 1 0 0 1 0-2z\"/>\\n\\t  </symbol>\\n\\t</svg>\\n\\n\\t<section class=\"py-3 py-lg-4 fid-py-xl-5 mb-4 mb-lg-5 bg-body-tertiary\">\\n\\t\\t<div class=\"container\">\\n\\t\\t\\t<div class=\"row align-items-center\">\\n\\t\\t\\t\\t<div class=\"col-lg-5 mb-4 mb-lg-0\">\\n\\t\\t\\t\\t\\t<h1>Fake Image Detector</h1>\\n\\t\\t\\t\\t\\t<p class=\"mb-0\">\\n\\t\\t\\t\\t\\t\\tFake Image Detector, a powerful tool for detecting manipulated images using advanced techniques like Metadata Analysis and ELA Analysis.\\n\\t\\t\\t\\t\\t</p>\\n\\t\\t\\t\\t</div>\\n\\t\\t\\t\\t<div class=\"col-lg-7\">\\n\\t\\t\\t\\t    <div class=\"row text-center\">\\n\\t\\t\\t\\t    \\t<div class=\"col-lg-6 mx-auto mb-2 mb-lg-0\">\\n\\t\\t\\t\\t    \\t\\t<script async src=\"https://pagead2.googlesyndication.com/pagead/js/adsbygoogle.js?client=ca-pub-3654485588670526\"\\n     crossorigin=\"anonymous\"></script>\\n\\t\\t\\t\\t\\t\\t\\t<!-- fakeimagedetector - header - 1 -->\\n\\t\\t\\t\\t\\t\\t\\t<ins class=\"adsbygoogle\"\\n\\t\\t\\t\\t\\t\\t\\t     style=\"display:inline-block;width:300px;height:150px\"\\n\\t\\t\\t\\t\\t\\t\\t     data-ad-client=\"ca-pub-3654485588670526\"\\n\\t\\t\\t\\t\\t\\t\\t     data-ad-slot=\"5354347929\"></ins>\\n\\t\\t\\t\\t\\t\\t\\t<script>\\n\\t\\t\\t\\t\\t\\t\\t     (adsbygoogle = window.adsbygoogle || []).push({});\\n\\t\\t\\t\\t\\t\\t\\t</script>\\n\\t\\t\\t\\t    \\t</div>\\n\\t\\t\\t\\t    \\t<div class=\"col-lg-6 d-none d-lg-block\">\\n\\t\\t\\t\\t    \\t\\t<script async src=\"https://pagead2.googlesyndication.com/pagead/js/adsbygoogle.js?client=ca-pub-3654485588670526\"\\n     crossorigin=\"anonymous\"></script>\\n\\t\\t\\t\\t\\t\\t\\t<!-- fakeimagedetector - header - 2 -->\\n\\t\\t\\t\\t\\t\\t\\t<ins class=\"adsbygoogle\"\\n\\t\\t\\t\\t\\t\\t\\t     style=\"display:inline-block;width:300px;height:150px\"\\n\\t\\t\\t\\t\\t\\t\\t     data-ad-client=\"ca-pub-3654485588670526\"\\n\\t\\t\\t\\t\\t\\t\\t     data-ad-slot=\"2728184589\"></ins>\\n\\t\\t\\t\\t\\t\\t\\t<script>\\n\\t\\t\\t\\t\\t\\t\\t     (adsbygoogle = window.adsbygoogle || []).push({});\\n\\t\\t\\t\\t\\t\\t\\t</script>\\n\\t\\t\\t\\t    \\t</div>\\n\\t\\t\\t\\t    </div>\\n\\t\\t\\t\\t</div>\\n\\t\\t\\t</div>\\n\\t\\t</div>\\n\\t</section>\\n\\n\\t<section class=\"mb-4 mb-lg-5\">\\n\\t\\t<div class=\"container\">\\n\\t\\t\\t<div class=\"row\">\\n\\t\\t\\t\\t<div class=\"col-lg-7 mx-auto\">\\n\\t\\t\\t\\t\\t<div class=\"alert alert-warning align-items-center justify-content-between mb-3 fid-alert\" role=\"alert\" style=\"display: none;\">\\n\\t\\t\\t\\t\\t\\t<div class=\"d-flex align-items-center\">\\n\\t\\t\\t\\t\\t\\t\\t<svg class=\"flex-shrink-0 me-2\" role=\"img\" aria-label=\"Warning:\" style=\"width: 16px; height: 16px; fill: currentcolor;\"><use xlink:href=\"#exclamation-triangle-fill\"/></svg>\\n\\t\\t\\t\\t\\t\\t\\t<div>\\n\\t\\t\\t\\t\\t\\t\\t    File too large. The maximum file size allowed is 5 MB.\\n\\t\\t\\t\\t\\t\\t\\t</div>\\n\\t\\t\\t\\t\\t\\t</div>\\n\\t\\t\\t\\t\\t\\t<button type=\"button\" class=\"btn-close\" data-bs-dismiss=\"alert\" aria-label=\"Close\"></button>\\n\\t\\t\\t\\t\\t</div>\\n\\t\\t\\t\\t\\t<div class=\"mb-2\">\\n\\t\\t\\t\\t\\t\\t<form method=\"POST\" enctype=\"multipart/form-data\">\\n\\t\\t\\t\\t\\t\\t\\t<div class=\"card fid-card fid-shadow\">\\n\\t\\t\\t\\t\\t\\t\\t\\t<div class=\"card-body p-0 text-center\">\\n\\t\\t\\t\\t\\t\\t\\t\\t\\t<div class=\"p-4 px-lg-5 py-lg-4 fid-img-preview\">\\n\\t\\t\\t\\t\\t\\t\\t\\t\\t\\t<div class=\"fid-img-preview-bg\"></div>\\n\\t\\t\\t\\t\\t\\t\\t\\t\\t</div>\\n\\t\\t\\t\\t\\t\\t\\t\\t\\t<div class=\"p-4 px-lg-5 py-lg-4 fid-drop-zone\">\\n\\t\\t\\t\\t\\t\\t\\t\\t\\t\\t<svg xmlns=\"http://www.w3.org/2000/svg\" width=\"140\" height=\"140\" fill=\"#ebebeb\" class=\"bi bi-image d-block mx-auto mb-4\" viewBox=\"0 0 16 16\">\\n\\t\\t\\t\\t\\t\\t\\t\\t\\t\\t  <path d=\"M6.002 5.5a1.5 1.5 0 1 1-3 0 1.5 1.5 0 0 1 3 0z\"/>\\n\\t\\t\\t\\t\\t\\t\\t\\t\\t\\t  <path d=\"M2.002 1a2 2 0 0 0-2 2v10a2 2 0 0 0 2 2h12a2 2 0 0 0 2-2V3a2 2 0 0 0-2-2h-12zm12 1a1 1 0 0 1 1 1v6.5l-3.777-1.947a.5.5 0 0 0-.577.093l-3.71 3.71-2.66-1.772a.5.5 0 0 0-.63.062L1.002 12V3a1 1 0 0 1 1-1h12z\"/>\\n\\t\\t\\t\\t\\t\\t\\t\\t\\t\\t</svg>\\n\\t\\t\\t\\t\\t\\t\\t\\t\\t\\t<label class=\"d-inline-block btn btn-primary mb-4\">Upload Image</label>\\n\\t\\t\\t\\t\\t\\t\\t\\t\\t</div>\\n\\t\\t\\t\\t\\t\\t\\t\\t\\t<input type=\"file\" name=\"file\" class=\"d-none fid-file-input\" accept=\"image/jpeg\">\\n\\t\\t\\t\\t\\t\\t\\t\\t\\t<div class=\"px-4 px-lg-5 mb-4 fid-btns\">\\n\\t\\t\\t\\t\\t\\t\\t\\t        <div class=\"d-flex\">\\n\\t\\t\\t\\t\\t\\t\\t\\t        \\t<button type=\"button\" class=\"btn btn-outline-secondary w-50 me-2 fid-btn-clear\" disabled>Clear</button>\\n\\t\\t\\t\\t\\t\\t\\t\\t        \\t<button type=\"submit\" name=\"action\" value=\"fid_scan\" class=\"btn btn-primary w-50 ms-2 fid-btn-scan-now\" disabled>Scan Now</button>\\n\\t\\t\\t\\t\\t\\t\\t\\t        </div>\\n\\t\\t\\t\\t\\t\\t\\t\\t\\t</div>\\n\\t\\t\\t\\t\\t\\t\\t\\t</div>\\n\\t\\t\\t\\t\\t\\t\\t\\t<div class=\"card-footer text-body-secondary p-3 text-center\">\\n\\t\\t\\t\\t\\t\\t\\t\\t    <p class=\"mb-0\">\\n\\t\\t\\t\\t\\t\\t\\t\\t\\t\\t<small>\\n\\t\\t\\t\\t\\t\\t\\t\\t\\t\\t\\tNote: Uploaded images will be automatically removed from the server every hour.\\n\\t\\t\\t\\t\\t\\t\\t\\t\\t\\t</small>\\n\\t\\t\\t\\t\\t\\t\\t\\t\\t</p>\\n\\t\\t\\t\\t\\t\\t\\t\\t</div>\\n\\t\\t\\t\\t\\t\\t\\t</div>\\n\\t\\t\\t\\t\\t\\t\\t<input type=\"hidden\" name=\"csrf_token\" value=\"IjY5NzUyM2M2OTcwZDIyNTYxZDU0MDJkMjlhYzU3N2U3YzBhYTlkMTEi.ZpgA3w._iTD4CFgOzj84k8Cxu3rQ35aq1Q\"/>\\n\\t\\t\\t\\t\\t\\t</form>\\n\\t\\t\\t\\t\\t</div>\\n\\t\\t\\t\\t\\t<script async src=\"https://pagead2.googlesyndication.com/pagead/js/adsbygoogle.js?client=ca-pub-3654485588670526\"\\n     crossorigin=\"anonymous\"></script>\\n\\t\\t\\t\\t\\t<!-- fakeimagedetector - home -->\\n\\t\\t\\t\\t\\t<ins class=\"adsbygoogle\"\\n\\t\\t\\t\\t\\t     style=\"display:block\"\\n\\t\\t\\t\\t\\t     data-ad-client=\"ca-pub-3654485588670526\"\\n\\t\\t\\t\\t\\t     data-ad-slot=\"8690139460\"\\n\\t\\t\\t\\t\\t     data-ad-format=\"auto\"\\n\\t\\t\\t\\t\\t     data-full-width-responsive=\"true\"></ins>\\n\\t\\t\\t\\t\\t<script>\\n\\t\\t\\t\\t\\t     (adsbygoogle = window.adsbygoogle || []).push({});\\n\\t\\t\\t\\t\\t</script>\\n\\t\\t\\t\\t</div>\\n\\t\\t\\t</div>\\n\\t\\t</div>\\n\\t</section>\\n\\n\\t<section class=\"py-5 text-white fid-bg-gradient\">\\n\\t\\t<div class=\"container\">\\n\\t\\t\\t<h2 class=\"text-center mb-5 mb-lg-5\">How to use the Fake Image Detector</h2>\\n\\t\\t\\t<div class=\"row\">\\n\\t\\t\\t\\t<div class=\"col-8 col-lg-10 mx-auto\">\\n\\t\\t\\t\\t\\t<div class=\"row g-lg-5 text-center text-lg-start\">\\n\\t\\t\\t\\t\\t\\t<div class=\"col-lg-4 mb-5 mb-lg-0\">\\n\\t\\t\\t\\t\\t\\t\\t<div class=\"d-flex align-items-center justify-content-center justify-content-lg-start mb-3\">\\n\\t\\t\\t\\t\\t\\t\\t\\t<svg xmlns=\"http://www.w3.org/2000/svg\" width=\"50\" height=\"50\" fill=\"#ebebeb\" class=\"bi bi-filetype-jpg\" viewBox=\"0 0 16 16\">\\n\\t\\t\\t\\t\\t\\t\\t\\t  <path fill-rule=\"evenodd\" d=\"M14 4.5V14a2 2 0 0 1-2 2h-1v-1h1a1 1 0 0 0 1-1V4.5h-2A1.5 1.5 0 0 1 9.5 3V1H4a1 1 0 0 0-1 1v9H2V2a2 2 0 0 1 2-2h5.5L14 4.5Zm-4.34 8.132c.076.153.123.317.14.492h-.776a.797.797 0 0 0-.097-.249.689.689 0 0 0-.17-.19.707.707 0 0 0-.237-.126.96.96 0 0 0-.299-.044c-.285 0-.507.1-.665.302-.156.201-.234.484-.234.85v.498c0 .234.032.439.097.615a.881.881 0 0 0 .304.413.87.87 0 0 0 .519.146.967.967 0 0 0 .457-.096.67.67 0 0 0 .272-.264c.06-.11.091-.23.091-.363v-.255H8.24v-.59h1.576v.798c0 .193-.032.377-.097.55a1.29 1.29 0 0 1-.293.458 1.37 1.37 0 0 1-.495.313c-.197.074-.43.111-.697.111a1.98 1.98 0 0 1-.753-.132 1.447 1.447 0 0 1-.533-.377 1.58 1.58 0 0 1-.32-.58 2.482 2.482 0 0 1-.105-.745v-.506c0-.362.066-.678.2-.95.134-.271.328-.482.582-.633.256-.152.565-.228.926-.228.238 0 .45.033.636.1.187.066.347.158.48.275.133.117.238.253.314.407ZM0 14.786c0 .164.027.319.082.465.055.147.136.277.243.39.11.113.245.202.407.267.164.062.354.093.569.093.42 0 .748-.115.984-.345.238-.23.358-.566.358-1.005v-2.725h-.791v2.745c0 .202-.046.357-.138.466-.092.11-.233.164-.422.164a.499.499 0 0 1-.454-.246.577.577 0 0 1-.073-.27H0Zm4.92-2.86H3.322v4h.791v-1.343h.803c.287 0 .531-.057.732-.172.203-.118.358-.276.463-.475.108-.201.161-.427.161-.677 0-.25-.052-.475-.158-.677a1.176 1.176 0 0 0-.46-.477c-.2-.12-.443-.179-.732-.179Zm.546 1.333a.795.795 0 0 1-.085.381.574.574 0 0 1-.238.24.794.794 0 0 1-.375.082H4.11v-1.406h.66c.218 0 .389.06.512.182.123.12.185.295.185.521Z\"/>\\n\\t\\t\\t\\t\\t\\t\\t\\t</svg>\\n\\t\\t\\t\\t\\t\\t\\t\\t<h3 class=\"ms-3 mb-0\">Choose</h3>\\n\\t\\t\\t\\t\\t\\t\\t</div>\\n\\t\\t\\t\\t\\t\\t\\t<p class=\"mb-0\">\\n\\t\\t\\t\\t\\t\\t\\t\\tChoose a JPG image from your device that is less than 5MB.\\n\\t\\t\\t\\t\\t\\t\\t</p>\\n\\t\\t\\t\\t\\t\\t</div>\\n\\t\\t\\t\\t\\t\\t<div class=\"col-lg-4 mb-5 mb-lg-0\">\\n\\t\\t\\t\\t\\t\\t\\t<div class=\"d-flex align-items-center justify-content-center justify-content-lg-start mb-3\">\\n\\t\\t\\t\\t\\t\\t\\t\\t<svg xmlns=\"http://www.w3.org/2000/svg\" width=\"50\" height=\"50\" fill=\"#ebebeb\" class=\"bi bi-upload\" viewBox=\"0 0 16 16\">\\n\\t\\t\\t\\t\\t\\t\\t\\t  <path d=\"M.5 9.9a.5.5 0 0 1 .5.5v2.5a1 1 0 0 0 1 1h12a1 1 0 0 0 1-1v-2.5a.5.5 0 0 1 1 0v2.5a2 2 0 0 1-2 2H2a2 2 0 0 1-2-2v-2.5a.5.5 0 0 1 .5-.5z\"/>\\n\\t\\t\\t\\t\\t\\t\\t\\t  <path d=\"M7.646 1.146a.5.5 0 0 1 .708 0l3 3a.5.5 0 0 1-.708.708L8.5 2.707V11.5a.5.5 0 0 1-1 0V2.707L5.354 4.854a.5.5 0 1 1-.708-.708l3-3z\"/>\\n\\t\\t\\t\\t\\t\\t\\t\\t</svg>\\n\\t\\t\\t\\t\\t\\t\\t\\t<h3 class=\"ms-3 mb-0\">Upload</h3>\\n\\t\\t\\t\\t\\t\\t\\t</div>\\n\\t\\t\\t\\t\\t\\t\\t<p class=\"mb-0\">\\n\\t\\t\\t\\t\\t\\t\\t\\tUpload your image and press the \"Scan Now\" button.\\n\\t\\t\\t\\t\\t\\t\\t</p>\\n\\t\\t\\t\\t\\t\\t</div>\\n\\t\\t\\t\\t\\t\\t<div class=\"col-lg-4\">\\n\\t\\t\\t\\t\\t\\t\\t<div class=\"d-flex align-items-center justify-content-center justify-content-lg-start mb-3\">\\n\\t\\t\\t\\t\\t\\t\\t\\t<svg xmlns=\"http://www.w3.org/2000/svg\" width=\"50\" height=\"50\" fill=\"#ebebeb\" class=\"bi bi-image\" viewBox=\"0 0 16 16\">\\n\\t\\t\\t\\t\\t\\t\\t\\t  <path d=\"M6.002 5.5a1.5 1.5 0 1 1-3 0 1.5 1.5 0 0 1 3 0z\"/>\\n\\t\\t\\t\\t\\t\\t\\t\\t  <path d=\"M2.002 1a2 2 0 0 0-2 2v10a2 2 0 0 0 2 2h12a2 2 0 0 0 2-2V3a2 2 0 0 0-2-2h-12zm12 1a1 1 0 0 1 1 1v6.5l-3.777-1.947a.5.5 0 0 0-.577.093l-3.71 3.71-2.66-1.772a.5.5 0 0 0-.63.062L1.002 12V3a1 1 0 0 1 1-1h12z\"/>\\n\\t\\t\\t\\t\\t\\t\\t\\t</svg>\\n\\t\\t\\t\\t\\t\\t\\t\\t<h3 class=\"ms-3 mb-0\">View</h3>\\n\\t\\t\\t\\t\\t\\t\\t</div>\\n\\t\\t\\t\\t\\t\\t\\t<p class=\"mb-0\">\\n\\t\\t\\t\\t\\t\\t\\t\\tExamine the outcome of the image you uploaded.\\n\\t\\t\\t\\t\\t\\t\\t</p>\\n\\t\\t\\t\\t\\t\\t</div>\\n\\t\\t\\t\\t\\t</div>\\n\\t\\t\\t\\t</div>\\n\\t\\t\\t</div>\\n\\t\\t</div>\\n\\t</section>\\n\\n\\n\\n    </main>\\n\\n    <footer class=\"mt-auto py-4 py-lg-5 bg-body-tertiary site-footer\">\\n        <div class=\"container\">\\n          <div class=\"row\">\\n            <div class=\"col-lg-8\">\\n              <div class=\"row g-lg-5\">\\n                <div class=\"col-10 col-lg-8 mx-auto mx-lg-0 text-center text-lg-start mb-5 mb-lg-0\">\\n                  <h5 class=\"mb-4\">Blog</h5>\\n                  <ul class=\"list-unstyled p-0 m-0\">\\n                    <li class=\"mb-2\">\\n                      <a class=\"text-decoration-none text-muted border-bottom pb-1\" href=\"/blog/exploring-lbph-breakthrough-digital-image-forensics/\">Exploring the Power of LBPH: A Breakthrough in Digital Image Forensics</a>\\n                    </li>\\n                    <li class=\"mb-2\">\\n                      <a class=\"text-decoration-none text-muted border-bottom pb-1\" href=\"/blog/metadata-mastery-unlocking-hidden-potential-digital-assets/\">Metadata Mastery: Unlocking the Hidden Potential of Digital Assets</a>\\n                    </li>\\n                    <li class=\"mb-2\">\\n                      <a class=\"text-decoration-none text-muted border-bottom pb-1\" href=\"/blog/shedding-light-ela-comprehensive-guide-error-level-analysis/\">Shedding Light on ELA: A Comprehensive Guide to Error Level Analysis</a>\\n                    </li>\\n                    <li>\\n                      <a class=\"text-decoration-none text-muted border-bottom pb-1\" href=\"/blog/navigating-world-image-forensics-techniques-tools-trends/\">Navigating the World of Image Forensics: Techniques, Tools, and Trends</a>\\n                    </li>\\n                  </ul>\\n                </div>\\n                <div class=\"col-lg-4 text-center text-lg-start mb-5 mb-lg-0\">\\n                  <h5 class=\"mb-4\">Helpful Links</h5>\\n                  <ul class=\"list-unstyled p-0 m-0\">\\n                    <li class=\"mb-2\">\\n                      <a class=\"text-decoration-none text-muted border-bottom pb-1\" href=\"/faq/\">FAQs</a>\\n                    </li>\\n                    <li class=\"mb-2\">\\n                      <a class=\"text-decoration-none text-muted border-bottom pb-1\" href=\"/privacy-policy/\">Privacy Policy</a>\\n                    </li>\\n                    <li class=\"mb-2\">\\n                      <a class=\"text-decoration-none text-muted border-bottom pb-1\" href=\"/disclaimer/\">Disclaimer</a>\\n                    </li>\\n                    <li>\\n                      <a class=\"text-decoration-none text-muted border-bottom pb-1\" href=\"/terms-and-conditions/\">Terms and Conditions</a>\\n                    </li>\\n                  </ul>\\n                </div>\\n              </div>\\n            </div>\\n            <div class=\"col-lg-4\">\\n              <div class=\"row h-100\">\\n                <div class=\"col-lg-5 ms-auto text-center text-lg-end h-100 d-flex flex-column justify-content-between align-items-center align-items-lg-end\">\\n                  <div class=\"form-check form-switch mb-5 mb-lg-0\">\\n                    <input class=\"form-check-input fid-theme-switch\" type=\"checkbox\" role=\"switch\" id=\"fidTheme\">\\n                    <label class=\"form-check-label\" for=\"fidTheme\">Dark Mode</label>\\n                  </div>\\n                  <p class=\"mb-0\">&copy; 2020 - 2024</p>\\n                </div>\\n              </div>\\n            </div>\\n          </div>\\n        </div>\\n    </footer>\\n\\n    <script src=\"/static/js/jquery-3.6.4.min.js\"></script>\\n    <script src=\"/static/js/bootstrap.bundle.min.js\"></script>\\n    <script src=\"/static/js/main.js\"></script>\\n<script>(function(){function c(){var b=a.contentDocument||a.contentWindow.document;if(b){var d=b.createElement(\\'script\\');d.innerHTML=\"window.__CF$cv$params={r:\\'8a4bfd155a071c94\\',t:\\'MTcyMTIzNzcyNy4wMDAwMDA=\\'};var a=document.createElement(\\'script\\');a.nonce=\\'\\';a.src=\\'/cdn-cgi/challenge-platform/scripts/jsd/main.js\\';document.getElementsByTagName(\\'head\\')[0].appendChild(a);\";b.getElementsByTagName(\\'head\\')[0].appendChild(d)}}if(document.body){var a=document.createElement(\\'iframe\\');a.height=1;a.width=1;a.style.position=\\'absolute\\';a.style.top=0;a.style.left=0;a.style.border=\\'none\\';a.style.visibility=\\'hidden\\';document.body.appendChild(a);if(\\'loading\\'!==document.readyState)c();else if(window.addEventListener)document.addEventListener(\\'DOMContentLoaded\\',c);else{var e=document.onreadystatechange||function(){};document.onreadystatechange=function(b){e(b);\\'loading\\'!==document.readyState&&(document.onreadystatechange=e,c())}}}})();</script></body>\\n</html>'"
      ]
     },
     "execution_count": 5,
     "metadata": {},
     "output_type": "execute_result"
    }
   ],
   "source": [
    "url = \"https://www.fakeimagedetector.com/\"\n",
    "html = fetch(url)\n",
    "html"
   ]
  },
  {
   "cell_type": "markdown",
   "id": "dd8a590e",
   "metadata": {
    "id": "W3MofoJntMgb",
    "papermill": {
     "duration": 0.003355,
     "end_time": "2024-07-17T17:35:27.900099",
     "exception": false,
     "start_time": "2024-07-17T17:35:27.896744",
     "status": "completed"
    },
    "tags": []
   },
   "source": [
    "**Get Text From HTML/ Remove Tags,Styling,etc.**"
   ]
  },
  {
   "cell_type": "code",
   "execution_count": 6,
   "id": "148d0d97",
   "metadata": {
    "execution": {
     "iopub.execute_input": "2024-07-17T17:35:27.908795Z",
     "iopub.status.busy": "2024-07-17T17:35:27.908420Z",
     "iopub.status.idle": "2024-07-17T17:35:27.926903Z",
     "shell.execute_reply": "2024-07-17T17:35:27.925493Z"
    },
    "id": "e3KmGToWkjq1",
    "outputId": "994e687c-201e-46e8-ebb0-99285c63acc9",
    "papermill": {
     "duration": 0.02523,
     "end_time": "2024-07-17T17:35:27.928958",
     "exception": false,
     "start_time": "2024-07-17T17:35:27.903728",
     "status": "completed"
    },
    "tags": []
   },
   "outputs": [
    {
     "data": {
      "text/plain": [
       "'\\n\\n\\n\\n\\n\\n\\nFake Image Detector | Fake Image Detector Online | FotoForensics | Error Level Analysis\\n\\n\\n\\n\\n\\n\\n\\n\\n\\n\\n\\n\\n\\n\\n\\n\\n\\nProcessing\\n\\n\\n\\n\\n\\n\\n\\n\\nFake Image Detector\\n\\n\\n\\n\\n\\n\\n\\n\\n\\nHome\\n\\n\\nFAQs\\n\\n\\nBlog\\n\\n\\nAbout Us\\n\\n\\nContact Us\\n\\n\\n\\n\\n\\n\\n\\nFake Image Detector\\n\\n\\n\\n\\n\\n                  The Fake Image Detector is an effective solution for identifying altered images through cutting-edge approaches, such as Metadata Analysis and ELA Analysis.\\n                \\n\\n\\nHome\\n\\n\\nFAQs\\n\\n\\nBlog\\n\\n\\nAbout Us\\n\\n\\nContact Us\\n\\n\\n\\n\\n                © 2020 - 2024\\n            \\n\\n\\n\\n\\n\\n\\n\\n\\n\\n\\n\\n\\n\\nFake Image Detector\\n\\n\\t\\t\\t\\t\\t\\tFake Image Detector, a powerful tool for detecting manipulated images using advanced techniques like Metadata Analysis and ELA Analysis.\\n\\t\\t\\t\\t\\t\\n\\n\\n\\n\\n\\n\\n\\n\\n\\n\\n\\n\\n\\n\\n\\n\\n\\n\\n\\n\\n\\n\\n\\n\\n\\n\\n\\n\\n\\t\\t\\t\\t\\t\\t\\t    File too large. The maximum file size allowed is 5 MB.\\n\\t\\t\\t\\t\\t\\t\\t\\n\\n\\n\\n\\n\\n\\n\\n\\n\\n\\n\\n\\n\\n\\n\\nUpload Image\\n\\n\\n\\n\\nClear\\nScan Now\\n\\n\\n\\n\\n\\n\\n\\t\\t\\t\\t\\t\\t\\t\\t\\t\\t\\tNote: Uploaded images will be automatically removed from the server every hour.\\n\\t\\t\\t\\t\\t\\t\\t\\t\\t\\t\\n\\n\\n\\n\\n\\n\\n\\n\\n\\n\\n\\n\\n\\n\\n\\n\\nHow to use the Fake Image Detector\\n\\n\\n\\n\\n\\n\\n\\n\\nChoose\\n\\n\\n\\t\\t\\t\\t\\t\\t\\t\\tChoose a JPG image from your device that is less than 5MB.\\n\\t\\t\\t\\t\\t\\t\\t\\n\\n\\n\\n\\n\\n\\n\\nUpload\\n\\n\\n\\t\\t\\t\\t\\t\\t\\t\\tUpload your image and press the \"Scan Now\" button.\\n\\t\\t\\t\\t\\t\\t\\t\\n\\n\\n\\n\\n\\n\\n\\nView\\n\\n\\n\\t\\t\\t\\t\\t\\t\\t\\tExamine the outcome of the image you uploaded.\\n\\t\\t\\t\\t\\t\\t\\t\\n\\n\\n\\n\\n\\n\\n\\n\\n\\n\\n\\n\\n\\nBlog\\n\\n\\nExploring the Power of LBPH: A Breakthrough in Digital Image Forensics\\n\\n\\nMetadata Mastery: Unlocking the Hidden Potential of Digital Assets\\n\\n\\nShedding Light on ELA: A Comprehensive Guide to Error Level Analysis\\n\\n\\nNavigating the World of Image Forensics: Techniques, Tools, and Trends\\n\\n\\n\\n\\nHelpful Links\\n\\n\\nFAQs\\n\\n\\nPrivacy Policy\\n\\n\\nDisclaimer\\n\\n\\nTerms and Conditions\\n\\n\\n\\n\\n\\n\\n\\n\\n\\n\\nDark Mode\\n\\n© 2020 - 2024\\n\\n\\n\\n\\n\\n\\n\\n\\n\\n\\n'"
      ]
     },
     "execution_count": 6,
     "metadata": {},
     "output_type": "execute_result"
    }
   ],
   "source": [
    "obj=BeautifulSoup(html,'html.parser')\n",
    "text=obj.get_text()\n",
    "text\n"
   ]
  },
  {
   "cell_type": "markdown",
   "id": "28838112",
   "metadata": {
    "id": "XYxgwtV-t0Ih",
    "papermill": {
     "duration": 0.003467,
     "end_time": "2024-07-17T17:35:27.936337",
     "exception": false,
     "start_time": "2024-07-17T17:35:27.932870",
     "status": "completed"
    },
    "tags": []
   },
   "source": [
    "**Get Text's Unique Words**"
   ]
  },
  {
   "cell_type": "code",
   "execution_count": 7,
   "id": "aa573d63",
   "metadata": {
    "execution": {
     "iopub.execute_input": "2024-07-17T17:35:27.944855Z",
     "iopub.status.busy": "2024-07-17T17:35:27.944502Z",
     "iopub.status.idle": "2024-07-17T17:35:27.967509Z",
     "shell.execute_reply": "2024-07-17T17:35:27.966274Z"
    },
    "id": "bEVnZ8SPni06",
    "outputId": "206dfc79-0149-4b46-f3a6-77feb14d00be",
    "papermill": {
     "duration": 0.029697,
     "end_time": "2024-07-17T17:35:27.969581",
     "exception": false,
     "start_time": "2024-07-17T17:35:27.939884",
     "status": "completed"
    },
    "tags": []
   },
   "outputs": [
    {
     "data": {
      "text/plain": [
       "{'advanc',\n",
       " 'allow',\n",
       " 'alter',\n",
       " 'analysi',\n",
       " 'approach',\n",
       " 'asset',\n",
       " 'automat',\n",
       " 'blog',\n",
       " 'breakthrough',\n",
       " 'button',\n",
       " 'choos',\n",
       " 'clear',\n",
       " 'comprehens',\n",
       " 'condit',\n",
       " 'contact',\n",
       " 'cuttingedg',\n",
       " 'dark',\n",
       " 'detect',\n",
       " 'detector',\n",
       " 'devic',\n",
       " 'digit',\n",
       " 'disclaim',\n",
       " 'effect',\n",
       " 'ela',\n",
       " 'error',\n",
       " 'everi',\n",
       " 'examin',\n",
       " 'explor',\n",
       " 'fake',\n",
       " 'faq',\n",
       " 'file',\n",
       " 'forens',\n",
       " 'fotoforens',\n",
       " 'guid',\n",
       " 'help',\n",
       " 'hidden',\n",
       " 'home',\n",
       " 'hour',\n",
       " 'identifi',\n",
       " 'imag',\n",
       " 'jpg',\n",
       " 'larg',\n",
       " 'lbph',\n",
       " 'less',\n",
       " 'level',\n",
       " 'light',\n",
       " 'like',\n",
       " 'link',\n",
       " 'manipul',\n",
       " 'masteri',\n",
       " 'maximum',\n",
       " 'mb',\n",
       " 'metadata',\n",
       " 'mode',\n",
       " 'navig',\n",
       " 'note',\n",
       " 'onlin',\n",
       " 'outcom',\n",
       " 'polici',\n",
       " 'potenti',\n",
       " 'power',\n",
       " 'press',\n",
       " 'privaci',\n",
       " 'process',\n",
       " 'remov',\n",
       " 'scan',\n",
       " 'server',\n",
       " 'shed',\n",
       " 'size',\n",
       " 'solut',\n",
       " 'techniqu',\n",
       " 'term',\n",
       " 'tool',\n",
       " 'trend',\n",
       " 'unlock',\n",
       " 'upload',\n",
       " 'us',\n",
       " 'use',\n",
       " 'view',\n",
       " 'world'}"
      ]
     },
     "execution_count": 7,
     "metadata": {},
     "output_type": "execute_result"
    }
   ],
   "source": [
    "result= prepocessing(text)\n",
    "result"
   ]
  }
 ],
 "metadata": {
  "accelerator": "GPU",
  "colab": {
   "gpuType": "T4",
   "provenance": []
  },
  "kaggle": {
   "accelerator": "none",
   "dataSources": [],
   "isGpuEnabled": false,
   "isInternetEnabled": true,
   "language": "python",
   "sourceType": "notebook"
  },
  "kernelspec": {
   "display_name": "Python 3",
   "name": "python3"
  },
  "language_info": {
   "codemirror_mode": {
    "name": "ipython",
    "version": 3
   },
   "file_extension": ".py",
   "mimetype": "text/x-python",
   "name": "python",
   "nbconvert_exporter": "python",
   "pygments_lexer": "ipython3",
   "version": "3.10.13"
  },
  "papermill": {
   "default_parameters": {},
   "duration": 47.726049,
   "end_time": "2024-07-17T17:35:29.798925",
   "environment_variables": {},
   "exception": null,
   "input_path": "__notebook__.ipynb",
   "output_path": "__notebook__.ipynb",
   "parameters": {},
   "start_time": "2024-07-17T17:34:42.072876",
   "version": "2.5.0"
  }
 },
 "nbformat": 4,
 "nbformat_minor": 5
}
